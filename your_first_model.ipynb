{
 "cells": [
  {
   "cell_type": "markdown",
   "metadata": {},
   "source": [
    "# Загрузка Pandas и очистка данных"
   ]
  },
  {
   "cell_type": "code",
   "execution_count": 83,
   "metadata": {},
   "outputs": [],
   "source": [
    "import pandas as pd\n",
    "import re\n",
    "from IPython.display import clear_output\n",
    "from copy import copy\n",
    "from datetime import datetime, timedelta, date\n",
    "from IPython.display import display, clear_output"
   ]
  },
  {
   "cell_type": "code",
   "execution_count": 2,
   "metadata": {},
   "outputs": [],
   "source": [
    "df_read = pd.read_csv('main_task.csv')"
   ]
  },
  {
   "cell_type": "code",
   "execution_count": 3,
   "metadata": {},
   "outputs": [],
   "source": [
    "# Ваш код по очистке данных и генерации новых признаков\n",
    "# При необходимости добавьте ячейки"
   ]
  },
  {
   "cell_type": "markdown",
   "metadata": {},
   "source": [
    "### Первичное приведение данных в порядок"
   ]
  },
  {
   "cell_type": "code",
   "execution_count": 3,
   "metadata": {},
   "outputs": [],
   "source": [
    "## Удаление столбцов: ID ресторана, URL страница, ID в базе TripAdvisor\n",
    "df_read.drop(['Restaurant_id','URL_TA','ID_TA'], axis=1, inplace=True)"
   ]
  },
  {
   "cell_type": "code",
   "execution_count": 4,
   "metadata": {},
   "outputs": [],
   "source": [
    "## Приведение диапазона цен к более удобному виду: ['$','$$','$$$']\n",
    "df_read['Price Range'] = df_read['Price Range'].replace('$$ - $$$','$$').replace('$$$$','$$$')"
   ]
  },
  {
   "cell_type": "code",
   "execution_count": 5,
   "metadata": {},
   "outputs": [],
   "source": [
    "## Столбец с кухнями приводим к списку и добавляем столбец с количеством кухонь\n",
    "def count_cuisine(row):\n",
    "    if not pd.isna(row['Cuisine Style']):\n",
    "        row['Cuisine Style'] = re.sub(r'[\\'\\[\\]]', '', row['Cuisine Style']).split(', ')\n",
    "        row['Count cuisine'] = len(row['Cuisine Style'])\n",
    "    return row\n",
    "\n",
    "df_read = df_read.apply(lambda row: count_cuisine(row), axis = 1)"
   ]
  },
  {
   "cell_type": "code",
   "execution_count": 6,
   "metadata": {},
   "outputs": [],
   "source": [
    "## Добавляем столбец принодлежности к столице\n",
    "def capital(row):\n",
    "    cap_list = ['Paris','Stockholm','London','Berlin','Bratislava','Vienna','Rome','Madrid',\n",
    "                   'Dublin','Brussels','Warsaw','Budapest','Copenhagen','Amsterdam','Lisbon',\n",
    "                   'Prague','Oslo','Helsinki','Ljubljana','Athens','Luxembourg','Edinburgh']\n",
    "    cap_list = set(cap_list)\n",
    "    if row['City'] in cap_list:\n",
    "        row['Capital'] = 1\n",
    "    else:\n",
    "        row['Capital'] = 0\n",
    "    return row\n",
    "\n",
    "df_read = df_read.apply(lambda row: capital(row), axis = 1)\n"
   ]
  },
  {
   "cell_type": "code",
   "execution_count": 7,
   "metadata": {},
   "outputs": [],
   "source": [
    "## Делаем столбец с разницей дней между комментариями\n",
    "def diff_day(row):\n",
    "    diff = re.sub(r'[\\'\\[\\]]', '',row['Reviews'].split('], [')[1]).split(', ')\n",
    "    if len(diff) == 2:\n",
    "        day1 = datetime.strptime(diff[1], '%m/%d/%Y')\n",
    "        day2 = datetime.strptime(diff[0], '%m/%d/%Y')\n",
    "        row['Diff day'] = abs((day2 - day1).days)\n",
    "    else:\n",
    "        row['Diff day'] = None\n",
    "    return row\n",
    "\n",
    "df_read = df_read.apply(lambda row: diff_day(row), axis = 1)"
   ]
  },
  {
   "cell_type": "markdown",
   "metadata": {},
   "source": [
    "### Добавление столбцов соответствующих категориальным признакам"
   ]
  },
  {
   "cell_type": "code",
   "execution_count": 8,
   "metadata": {},
   "outputs": [],
   "source": [
    "## Добавление столбцов соответствующих городам\n",
    "df = pd.concat([df_read,pd.get_dummies(df_read['City'])],axis=1)"
   ]
  },
  {
   "cell_type": "code",
   "execution_count": 9,
   "metadata": {},
   "outputs": [],
   "source": [
    "## Удаляем столбец с названием городов\n",
    "df.drop('City',axis=1,inplace=True)"
   ]
  },
  {
   "cell_type": "code",
   "execution_count": 10,
   "metadata": {},
   "outputs": [],
   "source": [
    "## Добавление столбцов соответствующих стоимости ресторана\n",
    "df = pd.concat([df,pd.get_dummies(df_read['Price Range'])],axis=1)"
   ]
  },
  {
   "cell_type": "code",
   "execution_count": 11,
   "metadata": {},
   "outputs": [],
   "source": [
    "## Удаляем столбец со стоимостью ресторана\n",
    "df.drop('Price Range',axis=1,inplace=True)"
   ]
  },
  {
   "cell_type": "code",
   "execution_count": null,
   "metadata": {},
   "outputs": [],
   "source": []
  },
  {
   "cell_type": "code",
   "execution_count": 12,
   "metadata": {
    "scrolled": true
   },
   "outputs": [],
   "source": [
    "## Делаем список со всеми кухнями\n",
    "df['Cuisine Style'].fillna(0,inplace=True)\n",
    "cuisine_list = set()\n",
    "for i, rec in df.iterrows():\n",
    "    if rec['Cuisine Style'] != 0:\n",
    "        for cuisine in rec['Cuisine Style']:\n",
    "            cuisine_list.add(cuisine)"
   ]
  },
  {
   "cell_type": "code",
   "execution_count": 13,
   "metadata": {},
   "outputs": [],
   "source": [
    "## Заполняем столбцы с кухнями нашими значениями\n",
    "def cuis_b(row):\n",
    "    if row['Cuisine Style'] != 0:\n",
    "        for i in row['Cuisine Style']:\n",
    "            row[i] = 1\n",
    "    return row\n",
    "\n",
    "for cuisine in cuisine_list:\n",
    "    df[cuisine] = 0\n",
    "    \n",
    "df = df.apply(lambda row: cuis_b(row), axis = 1)\n"
   ]
  },
  {
   "cell_type": "code",
   "execution_count": 67,
   "metadata": {
    "scrolled": true
   },
   "outputs": [],
   "source": [
    "df_test = df.drop(['Cuisine Style','Reviews'], axis=1)"
   ]
  },
  {
   "cell_type": "code",
   "execution_count": 39,
   "metadata": {},
   "outputs": [],
   "source": [
    "## Вариант заполнения значений медианными\n",
    "df_test['Count cuisine'].fillna(3,inplace=True)\n",
    "df_test['Number of Reviews'].fillna(33,inplace=True)\n",
    "df_test['Diff day'].fillna(67,inplace=True)"
   ]
  },
  {
   "cell_type": "code",
   "execution_count": 68,
   "metadata": {
    "scrolled": true
   },
   "outputs": [],
   "source": [
    "## Вариант \"простого\" заполнения значений\n",
    "df_test['Count cuisine'].fillna(1,inplace=True)\n",
    "df_test['Number of Reviews'].fillna(0,inplace=True)\n",
    "df_test['Diff day'].fillna(0,inplace=True)"
   ]
  },
  {
   "cell_type": "code",
   "execution_count": null,
   "metadata": {},
   "outputs": [],
   "source": []
  },
  {
   "cell_type": "markdown",
   "metadata": {},
   "source": [
    "# Разбиваем датафрейм на части, необходимые для обучения и тестирования модели"
   ]
  },
  {
   "cell_type": "code",
   "execution_count": 69,
   "metadata": {},
   "outputs": [],
   "source": [
    "# Х - данные с информацией о ресторанах, у - целевая переменная (рейтинги ресторанов)\n",
    "X = df_test.drop(['Rating'], axis = 1)\n",
    "y = df_test['Rating']"
   ]
  },
  {
   "cell_type": "code",
   "execution_count": 70,
   "metadata": {},
   "outputs": [],
   "source": [
    "# Загружаем специальный инструмент для разбивки:\n",
    "from sklearn.model_selection import train_test_split"
   ]
  },
  {
   "cell_type": "code",
   "execution_count": 71,
   "metadata": {},
   "outputs": [],
   "source": [
    "# Наборы данных с меткой \"train\" будут использоваться для обучения модели, \"test\" - для тестирования.\n",
    "# Для тестирования мы будем использовать 25% от исходного датасета.\n",
    "X_train, X_test, y_train, y_test = train_test_split(X, y, test_size=0.25)"
   ]
  },
  {
   "cell_type": "markdown",
   "metadata": {},
   "source": [
    "# Создаём, обучаем и тестируем модель"
   ]
  },
  {
   "cell_type": "code",
   "execution_count": 72,
   "metadata": {},
   "outputs": [],
   "source": [
    "# Импортируем необходимые библиотеки:\n",
    "from sklearn.ensemble import RandomForestRegressor # инструмент для создания и обучения модели\n",
    "from sklearn import metrics # инструменты для оценки точности модели"
   ]
  },
  {
   "cell_type": "code",
   "execution_count": 73,
   "metadata": {},
   "outputs": [],
   "source": [
    "# Создаём модель\n",
    "regr = RandomForestRegressor(n_estimators=100)\n",
    "\n",
    "# Обучаем модель на тестовом наборе данных\n",
    "regr.fit(X_train, y_train)\n",
    "\n",
    "# Используем обученную модель для предсказания рейтинга ресторанов в тестовой выборке.\n",
    "# Предсказанные значения записываем в переменную y_pred\n",
    "y_pred = regr.predict(X_test)"
   ]
  },
  {
   "cell_type": "code",
   "execution_count": 74,
   "metadata": {
    "scrolled": true
   },
   "outputs": [
    {
     "name": "stdout",
     "output_type": "stream",
     "text": [
      "MAE: 0.2130415\n"
     ]
    }
   ],
   "source": [
    "# Сравниваем предсказанные значения (y_pred) с реальными (y_test), и смотрим насколько они в среднем отличаются\n",
    "# Метрика называется Mean Absolute Error (MAE) и показывает среднее отклонение предсказанных значений от фактических.\n",
    "print('MAE:', metrics.mean_absolute_error(y_test, y_pred))"
   ]
  },
  {
   "cell_type": "code",
   "execution_count": null,
   "metadata": {},
   "outputs": [],
   "source": [
    "Стартовое значение - MAE: 0.431341367063492"
   ]
  },
  {
   "cell_type": "markdown",
   "metadata": {},
   "source": [
    "### Проверка средних результатов модели"
   ]
  },
  {
   "cell_type": "code",
   "execution_count": 90,
   "metadata": {},
   "outputs": [
    {
     "name": "stdout",
     "output_type": "stream",
     "text": [
      "0\n"
     ]
    }
   ],
   "source": [
    "summ = 0\n",
    "for i in range(50):\n",
    "    df_test = df.drop(['Cuisine Style','Reviews'], axis=1)\n",
    "    df_test.dropna(inplace=True)\n",
    "    \n",
    "    X = df_test.drop(['Rating'], axis = 1)\n",
    "    y = df_test['Rating']\n",
    "    X_train, X_test, y_train, y_test = train_test_split(X, y, test_size=0.25)\n",
    "    \n",
    "    regr = RandomForestRegressor(n_estimators=100)\n",
    "    regr.fit(X_train, y_train)\n",
    "    y_pred = regr.predict(X_test)\n",
    "    \n",
    "    summ += metrics.mean_absolute_error(y_test, y_pred)\n",
    "    \n",
    "    clear_output()\n",
    "    print(49 - i)"
   ]
  },
  {
   "cell_type": "markdown",
   "metadata": {},
   "source": [
    "При удалении       - MAE: 0.21173425 (среднее 50 прогонов)"
   ]
  },
  {
   "cell_type": "markdown",
   "metadata": {},
   "source": [
    "Медианные значения - MAE: 0.21381119 (среднее 50 прогонов)"
   ]
  },
  {
   "cell_type": "markdown",
   "metadata": {},
   "source": [
    "Значения [1,0,0]   - MAE: 0.21351588 (среднее 50 прогонов)"
   ]
  },
  {
   "cell_type": "code",
   "execution_count": 92,
   "metadata": {},
   "outputs": [
    {
     "data": {
      "text/plain": [
       "0.21173424679487185"
      ]
     },
     "execution_count": 92,
     "metadata": {},
     "output_type": "execute_result"
    }
   ],
   "source": [
    "summ / 50"
   ]
  },
  {
   "cell_type": "code",
   "execution_count": null,
   "metadata": {},
   "outputs": [],
   "source": []
  }
 ],
 "metadata": {
  "kernelspec": {
   "display_name": "Python 3",
   "language": "python",
   "name": "python3"
  },
  "language_info": {
   "codemirror_mode": {
    "name": "ipython",
    "version": 3
   },
   "file_extension": ".py",
   "mimetype": "text/x-python",
   "name": "python",
   "nbconvert_exporter": "python",
   "pygments_lexer": "ipython3",
   "version": "3.7.3"
  }
 },
 "nbformat": 4,
 "nbformat_minor": 4
}
